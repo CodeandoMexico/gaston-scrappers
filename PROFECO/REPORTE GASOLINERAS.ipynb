{
 "cells": [
  {
   "cell_type": "code",
   "execution_count": 1,
   "metadata": {
    "collapsed": true
   },
   "outputs": [],
   "source": [
    "import requests\n",
    "from bs4 import BeautifulSoup"
   ]
  },
  {
   "cell_type": "code",
   "execution_count": 2,
   "metadata": {
    "collapsed": true
   },
   "outputs": [],
   "source": [
    "def state_data(state):\n",
    "    headers_data = {'Accept-Encoding': 'gzip, deflate' ,\n",
    "                                 'Accept-Language': 'es-ES,es;q=0.8,en;q=0.6' ,\n",
    "                                 'Upgrade-Insecure-Requests': '1' ,\n",
    "                                 'User-Agent': 'Mozilla/5.0 (Macintosh; Intel Mac OS X 10_12_3) AppleWebKit/537.36 (KHTML, like Gecko) Chrome/55.0.2883.95 Safari/537.36' ,\n",
    "                                 'Content-Type': 'application/x-www-form-urlencoded' ,\n",
    "                                 'Accept': 'text/html,application/xhtml+xml,application/xml;q=0.9,image/webp,*/*;q=0.8' ,\n",
    "                                 'Cache-Control': 'no-cache' ,\n",
    "                                 'Referer': 'http://200.53.148.113/qqg/?page_id=13' ,\n",
    "                                 'Cookie': 'gsScrollPos=; _ga=GA1.1.1696495404.1483817531; _gali=btnBuscar' ,\n",
    "                                 'Connection': 'keep-alive'}\n",
    "    r = requests.post('http://200.53.148.113/qqg/?page_id=13', \n",
    "                      data ='page_id=13&estado='+state+'&razon=&numero=&btnBuscar=1', \n",
    "                      headers = headers_data)\n",
    "    soup = BeautifulSoup(r.content)\n",
    "    table = soup.find(\"div\", {\"class\":\"table-responsive\"})\n",
    "    hidden_divs = soup.findAll(\"div\",{\"style\":\"border:solid; display:none; position:fixed; top:25%; left:35%; height:70%; width:55%; background-color:#DDDDDD;\"})\n",
    "    return table, hidden_divs"
   ]
  },
  {
   "cell_type": "code",
   "execution_count": 3,
   "metadata": {
    "collapsed": true
   },
   "outputs": [],
   "source": [
    "state_values = [ 'AGUASCALIENTES',\n",
    " 'BAJA CALIFORNIA',\n",
    " 'BAJA CALIFORNIA SUR',\n",
    " 'CAMPECHE',\n",
    " 'CHIAPAS',\n",
    " 'CHIHUAHUA',\n",
    " 'CIUDAD DE MEXICO',\n",
    " 'COAHUILA DE ZARAGOZA',\n",
    " 'COLIMA',\n",
    " 'DISTRITO FEDERAL',\n",
    " 'DURANGO',\n",
    " 'GUANAJUATO',\n",
    " 'GUERRERO',\n",
    " 'HIDALGO',\n",
    " 'JALISCO',\n",
    " 'MEXICO',\n",
    " 'MICHOACAN DE OCAMPO',\n",
    " 'MORELIA',\n",
    " 'MORELOS',\n",
    " 'NAYARIT',\n",
    " 'NUEVO LEON',\n",
    " 'OAXACA DE JUAREZ',\n",
    " 'PUEBLA',\n",
    " 'QUERETARO DE ARTEAGA',\n",
    " 'QUINTANA ROO',\n",
    " 'SAN LUIS POTOSI',\n",
    " 'SINALOA',\n",
    " 'SONORA',\n",
    " 'TABASCO',\n",
    " 'TAMAULIPAS',\n",
    " 'TLAXCALA',\n",
    " 'VERACRUZ',\n",
    " 'VERACRUZ DE IGNACIO DE LA LLAVE',\n",
    " 'YUCATAN',\n",
    " 'ZACATECAS']"
   ]
  },
  {
   "cell_type": "code",
   "execution_count": 4,
   "metadata": {
    "collapsed": true
   },
   "outputs": [],
   "source": [
    "def extract_header(table):\n",
    "    header_row = []\n",
    "    header_html = table.find(\"thead\")\n",
    "    for row in header_html.find(\"tr\").findAll(\"th\"):\n",
    "        header_row.append(row.text)\n",
    "    return header_row"
   ]
  },
  {
   "cell_type": "code",
   "execution_count": 5,
   "metadata": {
    "collapsed": false
   },
   "outputs": [
    {
     "name": "stderr",
     "output_type": "stream",
     "text": [
      "/usr/local/lib/python3.4/site-packages/bs4/__init__.py:166: UserWarning: No parser was explicitly specified, so I'm using the best available HTML parser for this system (\"lxml\"). This usually isn't a problem, but if you run this code on another system, or in a different virtual environment, it may use a different parser and behave differently.\n",
      "\n",
      "To get rid of this warning, change this:\n",
      "\n",
      " BeautifulSoup([your markup])\n",
      "\n",
      "to this:\n",
      "\n",
      " BeautifulSoup([your markup], \"lxml\")\n",
      "\n",
      "  markup_type=markup_type))\n"
     ]
    },
    {
     "data": {
      "text/plain": [
       "['\\n']"
      ]
     },
     "execution_count": 5,
     "metadata": {},
     "output_type": "execute_result"
    }
   ],
   "source": [
    "table, hidden_divs = state_data(\"AGUASCALIENTES\")\n",
    "extract_header(table)"
   ]
  },
  {
   "cell_type": "code",
   "execution_count": null,
   "metadata": {
    "collapsed": true
   },
   "outputs": [],
   "source": []
  },
  {
   "cell_type": "code",
   "execution_count": 204,
   "metadata": {
    "collapsed": false,
    "scrolled": true
   },
   "outputs": [
    {
     "name": "stdout",
     "output_type": "stream",
     "text": [
      "AGUASCALIENTES\n",
      "BAJA CALIFORNIA\n",
      "BAJA CALIFORNIA SUR\n",
      "CAMPECHE\n",
      "CHIAPAS\n",
      "CHIHUAHUA\n",
      "COAHUILA DE ZARAGOZA\n",
      "COLIMA\n",
      "DISTRITO FEDERAL\n",
      "DURANGO\n",
      "GUANAJUATO\n",
      "GUERRERO\n",
      "HIDALGO\n",
      "JALISCO\n",
      "MEXICO\n",
      "MICHOACAN DE OCAMPO\n",
      "MORELOS\n",
      "NAYARIT\n",
      "NUEVO LEON\n",
      "OAXACA\n",
      "PUEBLA\n",
      "QUERETARO\n",
      "QUINTANA ROO\n",
      "SAN LUIS POTOSI\n",
      "SINALOA\n",
      "SONORA\n",
      "TABASCO\n",
      "TAMAULIPAS\n",
      "TLAXCALA\n",
      "VERACRUZ DE IGNACIO DE LA LLAVE\n",
      "YUCATAN\n",
      "ZACATECAS\n"
     ]
    }
   ],
   "source": [
    "full_table = []\n",
    "hidden_values = []\n",
    "verification_table = []\n",
    "count = 0\n",
    "for state in state_values:\n",
    "    \n",
    "    #Extract table values\n",
    "    print(state)\n",
    "    table, hidden_divs = state_data(state)\n",
    "    for row in table.findAll(\"tr\"):\n",
    "        row_data = []\n",
    "        for value in row.findAll(\"td\"):\n",
    "            row_data.append(value.text.replace(\"'\",'').replace('\"',\"\").replace(\",\",\"\"))\n",
    "        if len(row_data)> 0:\n",
    "            if \"Estado\" not in row_data or \"Detalle\" not in row_data:\n",
    "            full_table = full_table+[row_data]\n",
    "        \n",
    "    for hidden_div in hidden_divs:\n",
    "        extra_info, verification_data = scrape_hidden_div(hidden_div)\n",
    "        hidden_values = hidden_values + [extra_info]\n",
    "        if len(verification_data) > 0:\n",
    "            verification_table = verification_table + [verification_data]\n",
    "            \n",
    "    if count == len(state_values)-1:\n",
    "        full_table = [[\"Estado\",\"Municipio\",\"Razón social\",\"Número de estación\",\"Fecha de verificación\",\"Mangueras verificadas\",\"Verificadas volumetricamente\",\"Mangueras inmovilizadas\",\"Detalle\"]] + full_table\n",
    "        hidden_values = [[\"Razón Social\",\"Dirección\",\"Número de Estación\", \"Fecha de Verificación\",\"Instrumentos Verificados\",\"Instrumentos Movilizados\"]]+ hidden_values\n",
    "        verification_table = [[\"ID\",\"CAUSA\",\"DEFINICIÓN\",\"INMOV\"]]+ verification_table\n",
    "            \n",
    "    count = count +1\n"
   ]
  },
  {
   "cell_type": "code",
   "execution_count": 9,
   "metadata": {
    "collapsed": true
   },
   "outputs": [],
   "source": [
    "import pandas as pd"
   ]
  },
  {
   "cell_type": "code",
   "execution_count": 10,
   "metadata": {
    "collapsed": false
   },
   "outputs": [
    {
     "ename": "NameError",
     "evalue": "name 'full_table' is not defined",
     "output_type": "error",
     "traceback": [
      "\u001b[0;31m---------------------------------------------------------------------------\u001b[0m",
      "\u001b[0;31mNameError\u001b[0m                                 Traceback (most recent call last)",
      "\u001b[0;32m<ipython-input-10-1e7f5617bdb2>\u001b[0m in \u001b[0;36m<module>\u001b[0;34m()\u001b[0m\n\u001b[0;32m----> 1\u001b[0;31m \u001b[0mtable_df\u001b[0m \u001b[0;34m=\u001b[0m \u001b[0mpd\u001b[0m\u001b[0;34m.\u001b[0m\u001b[0mDataFrame\u001b[0m\u001b[0;34m(\u001b[0m\u001b[0mfull_table\u001b[0m\u001b[0;34m)\u001b[0m\u001b[0;34m\u001b[0m\u001b[0m\n\u001b[0m\u001b[1;32m      2\u001b[0m \u001b[0mhidden_df\u001b[0m \u001b[0;34m=\u001b[0m \u001b[0mpd\u001b[0m\u001b[0;34m.\u001b[0m\u001b[0mDataFrame\u001b[0m\u001b[0;34m(\u001b[0m\u001b[0mhidden_values\u001b[0m\u001b[0;34m)\u001b[0m\u001b[0;34m\u001b[0m\u001b[0m\n\u001b[1;32m      3\u001b[0m \u001b[0mverification_df\u001b[0m \u001b[0;34m=\u001b[0m\u001b[0mpd\u001b[0m\u001b[0;34m.\u001b[0m\u001b[0mDataFrame\u001b[0m\u001b[0;34m(\u001b[0m\u001b[0mverification_table\u001b[0m\u001b[0;34m)\u001b[0m\u001b[0;34m\u001b[0m\u001b[0m\n",
      "\u001b[0;31mNameError\u001b[0m: name 'full_table' is not defined"
     ]
    }
   ],
   "source": [
    "table_df = pd.DataFrame(full_table)\n",
    "hidden_df = pd.DataFrame(hidden_values)\n",
    "verification_df =pd.DataFrame(verification_table)"
   ]
  },
  {
   "cell_type": "code",
   "execution_count": 7,
   "metadata": {
    "collapsed": false
   },
   "outputs": [
    {
     "ename": "NameError",
     "evalue": "name 'table_df' is not defined",
     "output_type": "error",
     "traceback": [
      "\u001b[0;31m---------------------------------------------------------------------------\u001b[0m",
      "\u001b[0;31mNameError\u001b[0m                                 Traceback (most recent call last)",
      "\u001b[0;32m<ipython-input-7-c2e85a4e1827>\u001b[0m in \u001b[0;36m<module>\u001b[0;34m()\u001b[0m\n\u001b[0;32m----> 1\u001b[0;31m \u001b[0mtable_df\u001b[0m\u001b[0;34m.\u001b[0m\u001b[0mto_csv\u001b[0m\u001b[0;34m(\u001b[0m\u001b[0;34m\"sample_data/gasolina/reporte.csv\"\u001b[0m\u001b[0;34m)\u001b[0m\u001b[0;34m\u001b[0m\u001b[0m\n\u001b[0m\u001b[1;32m      2\u001b[0m \u001b[0mhidden_df\u001b[0m\u001b[0;34m.\u001b[0m\u001b[0mto_csv\u001b[0m\u001b[0;34m(\u001b[0m\u001b[0;34m\"sample_data/gasolina/extra_info.csv\"\u001b[0m\u001b[0;34m)\u001b[0m\u001b[0;34m\u001b[0m\u001b[0m\n\u001b[1;32m      3\u001b[0m \u001b[0mverification_df\u001b[0m\u001b[0;34m.\u001b[0m\u001b[0mto_csv\u001b[0m\u001b[0;34m(\u001b[0m\u001b[0;34m\"sample_data/gasolina/verificacion.csv\"\u001b[0m\u001b[0;34m)\u001b[0m\u001b[0;34m\u001b[0m\u001b[0m\n",
      "\u001b[0;31mNameError\u001b[0m: name 'table_df' is not defined"
     ]
    }
   ],
   "source": [
    "table_df.to_csv(\"sample_data/gasolina/reporte.csv\")\n",
    "hidden_df.to_csv(\"sample_data/gasolina/extra_info.csv\")\n",
    "verification_df.to_csv(\"sample_data/gasolina/verificacion.csv\")"
   ]
  },
  {
   "cell_type": "code",
   "execution_count": 180,
   "metadata": {
    "collapsed": true
   },
   "outputs": [],
   "source": [
    "#Obtener valor de los estados"
   ]
  },
  {
   "cell_type": "code",
   "execution_count": 179,
   "metadata": {
    "collapsed": true
   },
   "outputs": [],
   "source": [
    "def state_value_get():\n",
    "    headers_data = {'Accept-Encoding': 'gzip, deflate' ,\n",
    "                                 'Accept-Language': 'es-ES,es;q=0.8,en;q=0.6' ,\n",
    "                                 'Upgrade-Insecure-Requests': '1' ,\n",
    "                                 'User-Agent': 'Mozilla/5.0 (Macintosh; Intel Mac OS X 10_12_3) AppleWebKit/537.36 (KHTML, like Gecko) Chrome/55.0.2883.95 Safari/537.36' ,\n",
    "                                 'Content-Type': 'application/x-www-form-urlencoded' ,\n",
    "                                 'Accept': 'text/html,application/xhtml+xml,application/xml;q=0.9,image/webp,*/*;q=0.8' ,\n",
    "                                 'Cache-Control': 'no-cache' ,\n",
    "                                 'Referer': 'http://200.53.148.113/qqg/?page_id=13' ,\n",
    "                                 'Cookie': 'gsScrollPos=; _ga=GA1.1.1696495404.1483817531; _gali=btnBuscar' ,\n",
    "                                 'Connection': 'keep-alive'}\n",
    "    r = requests.post('http://200.53.148.113/qqg/?page_id=13', \n",
    "                      data ='page_id=13&estado=Aguascalientes&razon=&numero=&btnBuscar=1', \n",
    "                      headers = headers_data)\n",
    "    soup = BeautifulSoup(r.content)\n",
    "    state_values = []\n",
    "    select = soup.find(\"select\",{\"class\":\"qqp\"})\n",
    "    for option in select.findAll(\"option\"):\n",
    "        state_values.append(option[\"value\"])\n",
    "    return state_values"
   ]
  },
  {
   "cell_type": "code",
   "execution_count": 148,
   "metadata": {
    "collapsed": false
   },
   "outputs": [
    {
     "data": {
      "text/plain": [
       "'0'"
      ]
     },
     "execution_count": 148,
     "metadata": {},
     "output_type": "execute_result"
    }
   ],
   "source": [
    "state_values= state_value_get()\n",
    "state_values.pop(0)"
   ]
  },
  {
   "cell_type": "code",
   "execution_count": 149,
   "metadata": {
    "collapsed": false
   },
   "outputs": [
    {
     "data": {
      "text/plain": [
       "['AGUASCALIENTES',\n",
       " 'BAJA CALIFORNIA',\n",
       " 'BAJA CALIFORNIA SUR',\n",
       " 'CAMPECHE',\n",
       " 'CHIAPAS',\n",
       " 'CHIHUAHUA',\n",
       " 'COAHUILA DE ZARAGOZA',\n",
       " 'COLIMA',\n",
       " 'DISTRITO FEDERAL',\n",
       " 'DURANGO',\n",
       " 'GUANAJUATO',\n",
       " 'GUERRERO',\n",
       " 'HIDALGO',\n",
       " 'JALISCO',\n",
       " 'MEXICO',\n",
       " 'MICHOACAN DE OCAMPO',\n",
       " 'MORELOS',\n",
       " 'NAYARIT',\n",
       " 'NUEVO LEON',\n",
       " 'OAXACA',\n",
       " 'PUEBLA',\n",
       " 'QUERETARO',\n",
       " 'QUINTANA ROO',\n",
       " 'SAN LUIS POTOSI',\n",
       " 'SINALOA',\n",
       " 'SONORA',\n",
       " 'TABASCO',\n",
       " 'TAMAULIPAS',\n",
       " 'TLAXCALA',\n",
       " 'VERACRUZ DE IGNACIO DE LA LLAVE',\n",
       " 'YUCATAN',\n",
       " 'ZACATECAS']"
      ]
     },
     "execution_count": 149,
     "metadata": {},
     "output_type": "execute_result"
    }
   ],
   "source": [
    "state_values"
   ]
  },
  {
   "cell_type": "code",
   "execution_count": 181,
   "metadata": {
    "collapsed": true
   },
   "outputs": [],
   "source": [
    "#Exploración para obtener datos de Hidden_divs"
   ]
  },
  {
   "cell_type": "code",
   "execution_count": 27,
   "metadata": {
    "collapsed": true
   },
   "outputs": [],
   "source": [
    "table, hidden_divs = state_data(\"NUEVO LEON\")"
   ]
  },
  {
   "cell_type": "code",
   "execution_count": 28,
   "metadata": {
    "collapsed": false
   },
   "outputs": [
    {
     "data": {
      "text/plain": [
       "491"
      ]
     },
     "execution_count": 28,
     "metadata": {},
     "output_type": "execute_result"
    }
   ],
   "source": [
    "len(hidden_divs)"
   ]
  },
  {
   "cell_type": "code",
   "execution_count": 29,
   "metadata": {
    "collapsed": false
   },
   "outputs": [
    {
     "data": {
      "text/plain": [
       "<tr>\n",
       "<th>ID</th>\n",
       "<th>CAUSA</th>\n",
       "<th>DEFINICIÃ“N</th>\n",
       "<th>INMOV.</th>\n",
       "</tr>"
      ]
     },
     "execution_count": 29,
     "metadata": {},
     "output_type": "execute_result"
    }
   ],
   "source": [
    "hidden_divs[50].findAll(\"tr\")[6]"
   ]
  },
  {
   "cell_type": "code",
   "execution_count": 30,
   "metadata": {
    "collapsed": false
   },
   "outputs": [],
   "source": [
    "def scrape_hidden_div(hidden_div):\n",
    "    row_html = hidden_div.findAll(\"tr\")\n",
    "    local_data = []\n",
    "    for row in row_html[1:5]:\n",
    "        local_data.append(row.findAll(\"td\")[1].text)\n",
    "    local_data.append(hidden_div.findAll(\"div\")[1].text.replace(\"Instrumentos verificados: \",\"\"))\n",
    "    local_data.append(hidden_div.findAll(\"div\")[3].text.replace(\"Instrumentos inmovilizados: \",\"\"))\n",
    "    subtable = []\n",
    "    if len(row_html)>7:\n",
    "\n",
    "        for subtable_row in row_html[7:]:\n",
    "            local_row = []\n",
    "            for value in subtable_row.findAll(\"td\"):\n",
    "                local_row.append(value.text)\n",
    "            subtable= subtable + local_row\n",
    "    return local_data, subtable\n",
    "        \n",
    "    "
   ]
  },
  {
   "cell_type": "code",
   "execution_count": 31,
   "metadata": {
    "collapsed": false
   },
   "outputs": [
    {
     "data": {
      "text/plain": [
       "(['SUPER SERVICIO EL CUCHILLO, S.A. DE C.V.',\n",
       "  'CARRETERA A REYNOSA KM 110, COLONIA S/C, CP 67050',\n",
       "  '1992',\n",
       "  '2016-09-12',\n",
       "  '10',\n",
       "  '2'],\n",
       " ['7.1',\n",
       "  'Fuera de servicio',\n",
       "  'Cuando un instrumento de mediciÃ³n se encuentra fuera de ope…(ver mÃ¡s)',\n",
       "  '2'])"
      ]
     },
     "execution_count": 31,
     "metadata": {},
     "output_type": "execute_result"
    }
   ],
   "source": [
    "scrape_hidden_div(hidden_divs[100])"
   ]
  },
  {
   "cell_type": "code",
   "execution_count": 128,
   "metadata": {
    "collapsed": false
   },
   "outputs": [
    {
     "data": {
      "text/plain": [
       "<div align=\"center\">Instrumentos verificados: 14</div>"
      ]
     },
     "execution_count": 128,
     "metadata": {},
     "output_type": "execute_result"
    }
   ],
   "source": [
    "hidden_divs[50].findAll(\"div\")[1]"
   ]
  },
  {
   "cell_type": "code",
   "execution_count": null,
   "metadata": {
    "collapsed": true
   },
   "outputs": [],
   "source": []
  }
 ],
 "metadata": {
  "kernelspec": {
   "display_name": "Python 3",
   "language": "python",
   "name": "python3"
  },
  "language_info": {
   "codemirror_mode": {
    "name": "ipython",
    "version": 3
   },
   "file_extension": ".py",
   "mimetype": "text/x-python",
   "name": "python",
   "nbconvert_exporter": "python",
   "pygments_lexer": "ipython3",
   "version": "3.4.1"
  }
 },
 "nbformat": 4,
 "nbformat_minor": 0
}
